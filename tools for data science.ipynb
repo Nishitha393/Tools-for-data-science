{
 "cells": [
  {
   "cell_type": "markdown",
   "metadata": {
    "collapsed": true
   },
   "source": [
    "# My Jupyter Notebook on IBM Watson Studio #"
   ]
  },
  {
   "cell_type": "markdown",
   "metadata": {},
   "source": [
    "**Sai Nishitha**"
   ]
  },
  {
   "cell_type": "markdown",
   "metadata": {},
   "source": [
    "*I am interested in data science because it's fascinating field which is rapidly developing and creating huge opportunities for our generation.*"
   ]
  },
  {
   "cell_type": "markdown",
   "metadata": {},
   "source": [
    "### In this program, you'll learn to find the sum of n natural numbers using while loop and display it. ###"
   ]
  },
  {
   "cell_type": "code",
   "execution_count": 1,
   "metadata": {},
   "outputs": [
    {
     "name": "stdout",
     "output_type": "stream",
     "text": [
      "The sum is 120\n"
     ]
    }
   ],
   "source": [
    "num = 15\n",
    "\n",
    "if num < 0:\n",
    "   print(\"Enter a positive number\")\n",
    "else:\n",
    "   sum = 0\n",
    "  \n",
    "   while(num > 0):\n",
    "       sum += num\n",
    "       num -= 1\n",
    "   print(\"The sum is\", sum)"
   ]
  },
  {
   "cell_type": "markdown",
   "metadata": {},
   "source": [
    "<s>this is strike through text</s>"
   ]
  },
  {
   "cell_type": "markdown",
   "metadata": {},
   "source": [
    "* This is a bullet list 1\n",
    "* This is a bullet list 2\n",
    "* This is a bullet list 3\n"
   ]
  },
  {
   "cell_type": "markdown",
   "metadata": {},
   "source": [
    "1. Apples\n",
    "2. Mangoes\n",
    "3. Bananas\n",
    "4. Oranges"
   ]
  },
  {
   "cell_type": "code",
   "execution_count": null,
   "metadata": {},
   "outputs": [],
   "source": []
  }
 ],
 "metadata": {
  "kernelspec": {
   "display_name": "Python 3.6",
   "language": "python",
   "name": "python3"
  },
  "language_info": {
   "codemirror_mode": {
    "name": "ipython",
    "version": 3
   },
   "file_extension": ".py",
   "mimetype": "text/x-python",
   "name": "python",
   "nbconvert_exporter": "python",
   "pygments_lexer": "ipython3",
   "version": "3.6.9"
  }
 },
 "nbformat": 4,
 "nbformat_minor": 1
}
